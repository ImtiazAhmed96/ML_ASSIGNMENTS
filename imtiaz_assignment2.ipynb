{
  "nbformat": 4,
  "nbformat_minor": 0,
  "metadata": {
    "colab": {
      "provenance": []
    },
    "kernelspec": {
      "name": "python3",
      "display_name": "Python 3"
    },
    "language_info": {
      "name": "python"
    }
  },
  "cells": [
    {
      "cell_type": "code",
      "execution_count": 5,
      "metadata": {
        "colab": {
          "base_uri": "https://localhost:8080/"
        },
        "id": "pBXNmWtnJm9V",
        "outputId": "b3f392b6-831c-46f8-d833-49a831e3e453"
      },
      "outputs": [
        {
          "output_type": "stream",
          "name": "stdout",
          "text": [
            "Enter the lenght of rectangle :5\n",
            "Enter the breadth of rectangle :10\n",
            "Not Square\n"
          ]
        }
      ],
      "source": [
        "#problem1\n",
        "l = float(input(\"Enter the lenght of rectangle :\"))\n",
        "b = float(input(\"Enter the breadth of rectangle :\"))\n",
        "if (l==b):\n",
        "  print(\"Square\")\n",
        "else:\n",
        "  print(\"Not Square\")\n",
        "\n"
      ]
    },
    {
      "cell_type": "code",
      "source": [
        "#problem2\n",
        "a = int(input(\"Enter the first number: \"))\n",
        "b = int(input(\"Enter the second number: \"))\n",
        "c = int(input(\"Enter the third number: \"))\n",
        "\n",
        "if a >= b and a >= c:\n",
        "    print(\"The greatest number is:\", a)\n",
        "elif b >= a and b >= c:\n",
        "    print(\"The greatest number is:\", b)\n",
        "else:\n",
        "    print(\"The greatest number is:\", c)\n"
      ],
      "metadata": {
        "colab": {
          "base_uri": "https://localhost:8080/"
        },
        "id": "ec9n5hE4LMFt",
        "outputId": "79b72f31-6fa4-4cb5-cb0b-fba48eab24ce"
      },
      "execution_count": 6,
      "outputs": [
        {
          "output_type": "stream",
          "name": "stdout",
          "text": [
            "Enter the first number: 20\n",
            "Enter the second number: 30\n",
            "Enter the third number: 10\n",
            "The greatest number is: 30\n"
          ]
        }
      ]
    },
    {
      "cell_type": "code",
      "source": [
        "#problem3\n",
        "a = int(input(\"Enter marks: \"))\n",
        "if a>= 75:\n",
        "  print(\"You can sit for exam\")\n",
        "else:\n",
        "  print(\"You can't sit for exam\")"
      ],
      "metadata": {
        "colab": {
          "base_uri": "https://localhost:8080/"
        },
        "id": "dZeW5tKEM3fI",
        "outputId": "ff8bc185-78f5-435c-aba3-388954b7d996"
      },
      "execution_count": 8,
      "outputs": [
        {
          "output_type": "stream",
          "name": "stdout",
          "text": [
            "Enter marks: 5\n",
            "You can't sit for exam\n"
          ]
        }
      ]
    },
    {
      "cell_type": "code",
      "source": [
        "#problem4\n",
        "a = int(input(\"Enter marks: \"))\n",
        "if a< 25:\n",
        "  print(\"Your grade is  F\")\n",
        "elif a<=44 and a>=25 :\n",
        "  print(\"Your grade is  E\")\n",
        "elif a<=49 and a>=45:\n",
        "  print(\"Your grade is  D\")\n",
        "elif a<=59 and a>=50:\n",
        "  print(\"Your grade is  C\")\n",
        "elif a<=79 and a>=60:\n",
        "  print(\"Your grade is  B\")\n",
        "elif a<=89 and a>=80:\n",
        "  print(\"Your grade is  A\")\n",
        "else:\n",
        "  print(\"Your grade is  A+\")"
      ],
      "metadata": {
        "colab": {
          "base_uri": "https://localhost:8080/"
        },
        "id": "TlKNnxHVNo8R",
        "outputId": "0baad806-d5fe-418a-f987-1042babf4742"
      },
      "execution_count": 9,
      "outputs": [
        {
          "output_type": "stream",
          "name": "stdout",
          "text": [
            "Enter marks: 50\n",
            "Your grade is  C\n"
          ]
        }
      ]
    },
    {
      "cell_type": "code",
      "source": [
        "#problem5\n"
      ],
      "metadata": {
        "id": "E9cb_omuQImZ"
      },
      "execution_count": null,
      "outputs": []
    },
    {
      "cell_type": "code",
      "source": [
        "#problem6\n",
        "for i in range(-100, -9):\n",
        "    print(i, end=\" \")"
      ],
      "metadata": {
        "colab": {
          "base_uri": "https://localhost:8080/"
        },
        "id": "0tmor72yexIF",
        "outputId": "8a3de8b1-42d4-4e56-a4c7-45796303df67"
      },
      "execution_count": 10,
      "outputs": [
        {
          "output_type": "stream",
          "name": "stdout",
          "text": [
            "-100 -99 -98 -97 -96 -95 -94 -93 -92 -91 -90 -89 -88 -87 -86 -85 -84 -83 -82 -81 -80 -79 -78 -77 -76 -75 -74 -73 -72 -71 -70 -69 -68 -67 -66 -65 -64 -63 -62 -61 -60 -59 -58 -57 -56 -55 -54 -53 -52 -51 -50 -49 -48 -47 -46 -45 -44 -43 -42 -41 -40 -39 -38 -37 -36 -35 -34 -33 -32 -31 -30 -29 -28 -27 -26 -25 -24 -23 -22 -21 -20 -19 -18 -17 -16 -15 -14 -13 -12 -11 -10 "
          ]
        }
      ]
    },
    {
      "cell_type": "code",
      "source": [
        "#problem9\n",
        "input = 27956240710\n",
        "reversed_input = int(str(input)[::-1])\n",
        "print(\"Original number:\", input,\"Reversed number:\", reversed_input )\n",
        "\n"
      ],
      "metadata": {
        "colab": {
          "base_uri": "https://localhost:8080/"
        },
        "id": "toOVfQnojdPD",
        "outputId": "71c9252d-b3ed-4c4e-86ac-0d71ef3f1e1b"
      },
      "execution_count": 3,
      "outputs": [
        {
          "output_type": "stream",
          "name": "stdout",
          "text": [
            "Original number: 27956240710 Reversed number: 1704265972\n"
          ]
        }
      ]
    },
    {
      "cell_type": "code",
      "source": [],
      "metadata": {
        "id": "w2gRgD6Gjdnh"
      },
      "execution_count": null,
      "outputs": []
    },
    {
      "cell_type": "code",
      "source": [],
      "metadata": {
        "id": "fB2O10_VjeC_"
      },
      "execution_count": null,
      "outputs": []
    },
    {
      "cell_type": "code",
      "source": [],
      "metadata": {
        "id": "RBargbXzjec5"
      },
      "execution_count": null,
      "outputs": []
    },
    {
      "cell_type": "code",
      "source": [],
      "metadata": {
        "id": "gHuz0aaujevg"
      },
      "execution_count": null,
      "outputs": []
    },
    {
      "cell_type": "code",
      "source": [
        "#probelm12\n",
        "li = [1, 3, 5, [2, 3], True]\n",
        "li[3].remove(2)\n",
        "li[3].append(3)\n",
        "li[4] = False\n",
        "\n",
        "print(\"Output:\", li)"
      ],
      "metadata": {
        "colab": {
          "base_uri": "https://localhost:8080/"
        },
        "id": "p68S812MjfKO",
        "outputId": "afde2bc4-2214-499d-f632-06678acc2d29"
      },
      "execution_count": 14,
      "outputs": [
        {
          "output_type": "stream",
          "name": "stdout",
          "text": [
            "Output: [1, 3, 5, [3, 3], False]\n"
          ]
        }
      ]
    },
    {
      "cell_type": "code",
      "source": [
        "#problem13\n",
        "S1 = {1, 4, 6, 8}\n",
        "S2 = { 1, 2, 10}\n",
        "intersection = S1.intersection(S2)\n",
        "print(\"Intersection of S1 and S2:\", intersection)\n"
      ],
      "metadata": {
        "colab": {
          "base_uri": "https://localhost:8080/"
        },
        "id": "GBnwPZJnkwQ0",
        "outputId": "d9b93114-276f-4ec8-9045-8f0086e616db"
      },
      "execution_count": 6,
      "outputs": [
        {
          "output_type": "stream",
          "name": "stdout",
          "text": [
            "Intersection of S1 and S2: {1}\n"
          ]
        }
      ]
    },
    {
      "cell_type": "code",
      "source": [],
      "metadata": {
        "id": "suA-pEJhnVyj"
      },
      "execution_count": null,
      "outputs": []
    },
    {
      "cell_type": "code",
      "source": [
        "#problem15\n",
        "Dict = {\"name\": \"Shakil\", \"age\": 27, \"city\": \"Berlin\", \"country\": \"Germany\"}\n",
        "Dict['region'] = Dict.pop('country')\n",
        "print(\"Updated Dictionary:\", Dict)"
      ],
      "metadata": {
        "colab": {
          "base_uri": "https://localhost:8080/"
        },
        "id": "bNhIidwGnh_e",
        "outputId": "0dd9d3f3-a04f-4965-9ae0-5f0669345ed2"
      },
      "execution_count": 15,
      "outputs": [
        {
          "output_type": "stream",
          "name": "stdout",
          "text": [
            "Updated Dictionary: {'name': 'Shakil', 'age': 27, 'city': 'Berlin', 'region': 'Germany'}\n"
          ]
        }
      ]
    },
    {
      "cell_type": "code",
      "source": [
        "#problem16\n",
        "import pandas as pd\n",
        "num = [10, 100, 300]\n",
        "df = pd.DataFrame({'number': num})\n",
        "print(df)\n"
      ],
      "metadata": {
        "colab": {
          "base_uri": "https://localhost:8080/"
        },
        "id": "EcyXIEUdthHF",
        "outputId": "4f046b39-68fe-4cb5-8b29-d2efb9e16d84"
      },
      "execution_count": 7,
      "outputs": [
        {
          "output_type": "stream",
          "name": "stdout",
          "text": [
            "   number\n",
            "0      10\n",
            "1     100\n",
            "2     300\n"
          ]
        }
      ]
    },
    {
      "cell_type": "code",
      "source": [
        "#porblem17\n",
        "Dict = {\"name\": \"Shakil\", \"age\": 27, \"city\": \"Berlin\", \"country\": \"Germany\"}\n",
        "Dict['age'] = 28\n",
        "print(\"Updated Dictionary:\", Dict)\n"
      ],
      "metadata": {
        "colab": {
          "base_uri": "https://localhost:8080/"
        },
        "id": "-Jmd8n-PthuZ",
        "outputId": "82fbcbf1-a226-4338-c151-cf1c7e143b76"
      },
      "execution_count": 16,
      "outputs": [
        {
          "output_type": "stream",
          "name": "stdout",
          "text": [
            "Updated Dictionary: {'name': 'Shakil', 'age': 28, 'city': 'Berlin', 'country': 'Germany'}\n"
          ]
        }
      ]
    }
  ]
}